{
 "cells": [
  {
   "cell_type": "code",
   "execution_count": 3,
   "metadata": {},
   "outputs": [],
   "source": [
    "import numpy as np\n",
    "\n",
    "precisions_valid = np.array(\n",
    "                    [[89.47,97.06,84.44,94.74,94.59],\n",
    "                    [92,95.65,92.31,96.15,89.29],\n",
    "                    [90,94.44,94.74,95,95]])\n",
    "\n",
    "recall_valid = np.array(\n",
    "                [[91.89,86.84,100,94.74,92.11],\n",
    "                [92,84.62,96,96.15,100],\n",
    "                [94.74,89.47,94.74,100,100]])\n",
    "\n",
    "f1_valid = np.array(\n",
    "            [[90.67,91.67,91.57,94.74,93.33],\n",
    "            [92,89.80,94.12,96.15,94.34],\n",
    "            [92.31,91.89,94.74,97.44,97.44]])\n",
    "\n",
    "accuracy_valid = np.array(\n",
    "                [[90.54,92.11,90.79,94.74,93.42],\n",
    "                  [92,90.38,94,96.15,94],\n",
    "                  [92.11,92.11,94.74,97.37,97.37]])\n",
    "\n",
    "precisions_test = np.array([\n",
    "    [96.88,93.10,90,91.67,90.63],\n",
    "    [96.88,92.86,92.31,94.29,94.74],\n",
    "    [96.77,96.88,92.31,95,94.59]]\n",
    ")\n",
    "\n",
    "recall_test = np.array(\n",
    "    [[81.58,71.05,94.74,86.84,76.32],\n",
    "    [81.58,68.42,94.74,86.84,94.74],\n",
    "    [78.95,81.58,94.74,100,92.11]]\n",
    ")\n",
    "\n",
    "f1_test = np.array(\n",
    "    [[88.57,80.60,92.31,89.19,82.86],\n",
    "    [88.57,78.79,93.51,90.41,94.74],\n",
    "    [86.96,88.57,93.51,97.44,93.33]]\n",
    ")\n",
    "\n",
    "accuracy = np.array(\n",
    "    [[89.47,82.89,92.11,89.47,84.21],\n",
    "    [89.47,81.58,93.42,90.79,94.74],\n",
    "    [88.16,89.47,93.42,97.37,93.42]]\n",
    ")"
   ]
  },
  {
   "cell_type": "code",
   "execution_count": 4,
   "metadata": {},
   "outputs": [
    {
     "data": {
      "text/plain": [
       "<matplotlib.legend.Legend at 0x2a809e5a438>"
      ]
     },
     "execution_count": 4,
     "metadata": {},
     "output_type": "execute_result"
    }
   ],
   "source": [
    "K = [4,6,8]\n",
    "period = [10,15,20,25,30]\n",
    "\n",
    "import matplotlib.pyplot as plt\n",
    "%matplotlib tk\n",
    "plt.style.use('ggplot')\n",
    "plt.plot(period,f1_valid[0],label = '4',marker='x')\n",
    "plt.plot(period,f1_valid[1],label = '6',marker='x')\n",
    "plt.plot(period,f1_valid[2],label = '8',marker='x')\n",
    "plt.legend(title ='K')"
   ]
  },
  {
   "cell_type": "code",
   "execution_count": null,
   "metadata": {},
   "outputs": [],
   "source": []
  }
 ],
 "metadata": {
  "kernelspec": {
   "display_name": "Python 3",
   "language": "python",
   "name": "python3"
  },
  "language_info": {
   "codemirror_mode": {
    "name": "ipython",
    "version": 3
   },
   "file_extension": ".py",
   "mimetype": "text/x-python",
   "name": "python",
   "nbconvert_exporter": "python",
   "pygments_lexer": "ipython3",
   "version": "3.6.2"
  }
 },
 "nbformat": 4,
 "nbformat_minor": 2
}
