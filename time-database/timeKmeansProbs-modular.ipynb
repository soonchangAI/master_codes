{
 "cells": [
  {
   "cell_type": "code",
   "execution_count": 370,
   "metadata": {},
   "outputs": [
    {
     "name": "stdout",
     "output_type": "stream",
     "text": [
      "Number of days 189\n"
     ]
    }
   ],
   "source": [
    "import pandas as pd\n",
    "import numpy as np\n",
    "\n",
    "data = pd.read_csv('data.csv')\n",
    "print('Number of days',data['Date'].nunique())"
   ]
  },
  {
   "cell_type": "code",
   "execution_count": 371,
   "metadata": {},
   "outputs": [
    {
     "name": "stdout",
     "output_type": "stream",
     "text": [
      "['Sleeping', 'Bed_to_Toilet', 'Meal_Preparation', 'Relax', 'Housekeeping', 'Eating', 'Wash_Dishes', 'Leave_Home', 'Enter_Home', 'Work']\n",
      "{'Bed_to_Toilet': 0, 'Eating': 1, 'Enter_Home': 2, 'Housekeeping': 3, 'Leave_Home': 4, 'Meal_Preparation': 5, 'Relax': 6, 'Sleeping': 7, 'Wash_Dishes': 8, 'Work': 9}\n"
     ]
    }
   ],
   "source": [
    "# Dictionary for activity label to integer conversion\n",
    "activities = list(data['Activity'].unique())\n",
    "data = pd.read_csv('train.csv')\n",
    "act_to_ix = {activity:index for index, activity in enumerate(sorted(activities))}\n",
    "#ix_to_act = {0: 'Bed_to_Toilet', 1: 'Eating', 2: 'Enter_Home', 3: 'Housekeeping', 4: 'Leave_Home', 5: 'Meal_Preparation', 6: 'Relax', 7: 'Sleeping', 8: 'Wash_Dishes', 9: 'Work'}\n",
    "print(activities)\n",
    "print(act_to_ix)"
   ]
  },
  {
   "cell_type": "code",
   "execution_count": 372,
   "metadata": {},
   "outputs": [
    {
     "name": "stdout",
     "output_type": "stream",
     "text": [
      "76\n",
      "76\n",
      "[947, 1075, 478, 807, 1340, 628, 1408, 1157, 592, 658, 1262, 680, 923, 970, 621, 735, 910, 558, 757, 713, 1043, 691, 932, 624, 858, 1010, 418, 830, 830, 863, 1086, 721, 942, 855, 713, 661, 923, 679, 665, 885, 1384, 889, 1028, 663, 601, 991, 764, 1077, 1329, 602, 1067, 653, 945, 1111, 868, 993, 946, 815, 927, 1036, 1084, 725, 670, 668, 634, 522, 455, 558, 595, 621, 517, 953, 454, 542, 789, 422]\n",
      "[23, 2, 92, 3, 18, 2, 24, 84, 1, 10, 20, 3, 33, 28, 6, 52, 18, 4, 28, 71, 4, 321, 57, 3, 15, 19, 3, 31, 11, 16, 13, 4, 23, 30, 23, 2, 46, 35, 3, 112, 40, 29, 100, 11, 4, 1, 3, 8, 18, 2, 2, 19, 4, 4, 117, 55, 31, 55, 15, 25, 1, 133, 7, 21, 14, 20, 11, 6, 17, 30, 23, 20, 4, 45, 5, 8]\n"
     ]
    }
   ],
   "source": [
    "def data_processing(dataframe, activity):\n",
    "    starts = []\n",
    "    durations = []\n",
    "    activity_dataframe = dataframe[dataframe['Activity'] == activity].copy()\n",
    "    activity_dataframe.index = np.arange(len(activity_dataframe))\n",
    "    for i in range(len(activity_dataframe)):\n",
    "        start = activity_dataframe['start hour'][i]*60 + activity_dataframe['start min'][i]\n",
    "        end = activity_dataframe['end hour'][i]*60 + activity_dataframe['end min'][i]\n",
    "  \n",
    "        duration = end - start\n",
    "        if duration < 0:\n",
    "            duration += 1440\n",
    "        starts.append(start)\n",
    "        durations.append(duration)\n",
    "    \n",
    "    return starts, durations\n",
    "\n",
    "starts, durations = data_processing(data,act_to_ix['Work'])\n",
    "\n",
    "print(len(starts))\n",
    "print(len(durations))\n",
    "\n",
    "print(starts)\n",
    "print(durations)"
   ]
  },
  {
   "cell_type": "code",
   "execution_count": 373,
   "metadata": {},
   "outputs": [
    {
     "name": "stdout",
     "output_type": "stream",
     "text": [
      "76\n"
     ]
    },
    {
     "data": {
      "image/png": "[encoded data removed]",
      "text/plain": [
       "<Figure size 432x288 with 1 Axes>"
      ]
     },
     "metadata": {
      "needs_background": "light"
     },
     "output_type": "display_data"
    }
   ],
   "source": [
    "import matplotlib.pyplot as plt\n",
    "%matplotlib inline\n",
    "plt.scatter(starts,durations)\n",
    "plt.xlabel('Start time')\n",
    "plt.ylabel('Duration')\n",
    "print(len(starts))"
   ]
  },
  {
   "cell_type": "code",
   "execution_count": 374,
   "metadata": {},
   "outputs": [],
   "source": [
    "from sklearn.cluster import KMeans\n",
    "\n",
    "X = np.array([starts, durations]).T\n",
    "\n",
    "kmeans = KMeans(n_clusters=2, random_state=0).fit(X)\n",
    "center = kmeans.cluster_centers_\n",
    "\n",
    "labels = kmeans.labels_\n",
    "\n",
    "cluster1_indices = np.where(labels == 0)[0]\n",
    "cluster2_indices = np.where(labels == 1)[0]\n",
    "\n",
    "cluster1_data = []\n",
    "for index in cluster1_indices:\n",
    "    cluster1_data.append(X[index,:])\n",
    "    \n",
    "cluster2_data = []\n",
    "for index in cluster2_indices:\n",
    "    cluster2_data.append(list(X[index,:]))\n",
    "\n",
    "cluster1_data = np.array(cluster1_data)\n",
    "cluster2_data = np.array(cluster2_data)"
   ]
  },
  {
   "cell_type": "code",
   "execution_count": 375,
   "metadata": {
    "scrolled": true
   },
   "outputs": [
    {
     "data": {
      "image/png": "[encoded data removed]",
      "text/plain": [
       "<Figure size 432x288 with 1 Axes>"
      ]
     },
     "metadata": {
      "needs_background": "light"
     },
     "output_type": "display_data"
    }
   ],
   "source": [
    "import matplotlib.pyplot as plt\n",
    "%matplotlib inline\n",
    "plt.scatter(cluster1_data[:,0],cluster1_data[:,1],color ='blue',label='cluster 1')\n",
    "plt.scatter(cluster2_data[:,0],cluster2_data[:,1],color = 'red',label='cluster 2')\n",
    "plt.xlabel('Start time')\n",
    "plt.ylabel('Duration')\n",
    "plt.scatter(center[0,0],center[0,1],color='black',marker='x',s=100)\n",
    "plt.scatter(center[1,0],center[1,1],color='black',marker='x',s=100)\n",
    "plt.legend(title='Cluster')\n",
    "plt.show()"
   ]
  },
  {
   "cell_type": "code",
   "execution_count": 376,
   "metadata": {},
   "outputs": [
    {
     "name": "stdout",
     "output_type": "stream",
     "text": [
      "[642.17073171  27.95121951]\n",
      "[107.88202736  53.50539121]\n"
     ]
    }
   ],
   "source": [
    "mean_cluster1 = np.mean(cluster1_data,axis=0)\n",
    "std_cluster1 = np.std(cluster1_data,axis=0)\n",
    "print(mean_cluster1)\n",
    "print(std_cluster1)"
   ]
  },
  {
   "cell_type": "code",
   "execution_count": 377,
   "metadata": {},
   "outputs": [
    {
     "name": "stdout",
     "output_type": "stream",
     "text": [
      "[1029.05714286   30.14285714]\n",
      "[150.85848484  29.97250441]\n"
     ]
    }
   ],
   "source": [
    "mean_cluster2 = np.mean(cluster2_data,axis=0)\n",
    "std_cluster2 = np.std(cluster2_data,axis=0)\n",
    "print(mean_cluster2)\n",
    "print(std_cluster2)"
   ]
  },
  {
   "cell_type": "code",
   "execution_count": 378,
   "metadata": {},
   "outputs": [],
   "source": [
    "def classifier(data_point):\n",
    "    start, duration = data_point\n",
    "    # Cluster 1 mean and std for start time and duration\n",
    "    mean_start1 = mean_cluster1[0]\n",
    "    mean_duration1 = mean_cluster1[1]\n",
    "    \n",
    "    std_start1 = std_cluster1[0]\n",
    "    std_duration1 = std_cluster1[1]\n",
    "    \n",
    "    # Cluster 2 mean and std for start time and duration\n",
    "    mean_start2 = mean_cluster2[0]\n",
    "    mean_duration2 = mean_cluster2[1]\n",
    "    \n",
    "    std_start2 = std_cluster2[0]\n",
    "    std_duration2 = std_cluster2[1]\n",
    "    \n",
    "    if ((mean_start1 - 2*std_start1) <= start <= (mean_start1 + 2*std_start1)) and ((mean_duration1 - 2*std_duration1) <= duration <= (mean_duration1 + 2*std_duration1)):\n",
    "        classlabel = 1\n",
    "    elif ((mean_start2 - 2*std_start2) <= start <= (mean_start2 + 2*std_start2)) and ((mean_duration2 - 2*std_duration2) <= duration <= (mean_duration2 + 2*std_duration2)):  \n",
    "        classlabel = 2\n",
    "        \n",
    "    else:\n",
    "        classlabel = 0\n",
    "    \n",
    "    return classlabel\n"
   ]
  },
  {
   "cell_type": "code",
   "execution_count": 379,
   "metadata": {},
   "outputs": [],
   "source": [
    "normal_starts = np.load('normal_starts.npy')\n",
    "abnormal_starts = np.load('abnormal_starts.npy')\n",
    "durations = np.load('durations.npy')"
   ]
  },
  {
   "cell_type": "code",
   "execution_count": 380,
   "metadata": {},
   "outputs": [],
   "source": [
    "results_abnormal = []\n",
    "for i in range(len(normal_starts)):\n",
    "    results_abnormal.append(classifier((abnormal_starts[i],durations[i])))"
   ]
  },
  {
   "cell_type": "code",
   "execution_count": 381,
   "metadata": {},
   "outputs": [],
   "source": [
    "results_normal = []\n",
    "for i in range(len(normal_starts)):\n",
    "    results_normal.append(classifier((normal_starts[i],durations[i])))"
   ]
  },
  {
   "cell_type": "code",
   "execution_count": 382,
   "metadata": {},
   "outputs": [
    {
     "name": "stdout",
     "output_type": "stream",
     "text": [
      "97.36842105263158\n"
     ]
    }
   ],
   "source": [
    "mis_counter = 0\n",
    "results_abnormal = np.array(results_abnormal)\n",
    "#mis_counter += len(results_abnormal[results_abnormal != 0])\n",
    "results_normal = np.array(results_normal)\n",
    "mis_counter += len(results_normal[results_normal == 0])\n",
    "accuracy = (len(abnormal_starts)*2 - mis_counter)/(len(abnormal_starts)*2)*100\n",
    "accuracy = (len(starts) - mis_counter)/len(starts)*100\n",
    "print(accuracy)"
   ]
  },
  {
   "cell_type": "code",
   "execution_count": 383,
   "metadata": {},
   "outputs": [
    {
     "data": {
      "text/plain": [
       "21"
      ]
     },
     "execution_count": 383,
     "metadata": {},
     "output_type": "execute_result"
    }
   ],
   "source": [
    "len(abnormal_starts)"
   ]
  },
  {
   "cell_type": "code",
   "execution_count": 384,
   "metadata": {},
   "outputs": [
    {
     "data": {
      "image/png": "[encoded data removed]",
      "text/plain": [
       "<Figure size 432x288 with 1 Axes>"
      ]
     },
     "metadata": {
      "needs_background": "light"
     },
     "output_type": "display_data"
    }
   ],
   "source": [
    "import matplotlib.pyplot as plt\n",
    "%matplotlib inline\n",
    "plt.scatter(cluster1_data[:,0],cluster1_data[:,1],color ='blue',label='cluster 1')\n",
    "plt.scatter(cluster2_data[:,0],cluster2_data[:,1],color = 'red',label='cluster 2')\n",
    "plt.xlabel('Start time')\n",
    "plt.ylabel('Duration')\n",
    "plt.scatter(center[0,0],center[0,1],color='black',marker='x',s=100)\n",
    "plt.scatter(center[1,0],center[1,1],color='black',marker='x',s=100)\n",
    "plt.scatter(abnormal_starts,durations,color= 'green')\n",
    "plt.scatter(normal_starts,durations,color='purple')\n",
    "plt.legend(title='Cluster')\n",
    "plt.show()"
   ]
  },
  {
   "cell_type": "code",
   "execution_count": 385,
   "metadata": {},
   "outputs": [
    {
     "name": "stdout",
     "output_type": "stream",
     "text": [
      "76\n",
      "21\n",
      "21\n"
     ]
    }
   ],
   "source": [
    "print(len(starts))\n",
    "print(len(abnormal_starts))\n",
    "print(len(durations))"
   ]
  },
  {
   "cell_type": "code",
   "execution_count": null,
   "metadata": {},
   "outputs": [],
   "source": []
  }
 ],
 "metadata": {
  "kernelspec": {
   "display_name": "Python 3",
   "language": "python",
   "name": "python3"
  },
  "language_info": {
   "codemirror_mode": {
    "name": "ipython",
    "version": 3
   },
   "file_extension": ".py",
   "mimetype": "text/x-python",
   "name": "python",
   "nbconvert_exporter": "python",
   "pygments_lexer": "ipython3",
   "version": "3.6.2"
  }
 },
 "nbformat": 4,
 "nbformat_minor": 2
}
