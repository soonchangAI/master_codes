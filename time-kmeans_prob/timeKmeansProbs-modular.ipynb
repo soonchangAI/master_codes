{
 "cells": [
  {
   "cell_type": "code",
   "execution_count": 130,
   "metadata": {},
   "outputs": [
    {
     "name": "stdout",
     "output_type": "stream",
     "text": [
      "Number of days 189\n"
     ]
    }
   ],
   "source": [
    "import pandas as pd\n",
    "import numpy as np\n",
    "\n",
    "data = pd.read_csv('data.csv')\n",
    "print('Number of days',data['Date'].nunique())"
   ]
  },
  {
   "cell_type": "code",
   "execution_count": 131,
   "metadata": {},
   "outputs": [
    {
     "name": "stdout",
     "output_type": "stream",
     "text": [
      "['Sleeping', 'Bed_to_Toilet', 'Meal_Preparation', 'Relax', 'Housekeeping', 'Eating', 'Wash_Dishes', 'Leave_Home', 'Enter_Home', 'Work']\n",
      "{'Bed_to_Toilet': 0, 'Eating': 1, 'Enter_Home': 2, 'Housekeeping': 3, 'Leave_Home': 4, 'Meal_Preparation': 5, 'Relax': 6, 'Sleeping': 7, 'Wash_Dishes': 8, 'Work': 9}\n"
     ]
    }
   ],
   "source": [
    "# Dictionary for activity label to integer conversion\n",
    "activities = list(data['Activity'].unique())\n",
    "data = pd.read_csv('train.csv')\n",
    "act_to_ix = {activity:index for index, activity in enumerate(sorted(activities))}\n",
    "#ix_to_act = {0: 'Bed_to_Toilet', 1: 'Eating', 2: 'Enter_Home', 3: 'Housekeeping', 4: 'Leave_Home', 5: 'Meal_Preparation', 6: 'Relax', 7: 'Sleeping', 8: 'Wash_Dishes', 9: 'Work'}\n",
    "print(activities)\n",
    "print(act_to_ix)"
   ]
  },
  {
   "cell_type": "code",
   "execution_count": 132,
   "metadata": {},
   "outputs": [
    {
     "name": "stdout",
     "output_type": "stream",
     "text": [
      "131\n",
      "131\n",
      "[596, 925, 1055, 985, 568, 722, 755, 827, 840, 1086, 1092, 563, 1108, 1122, 607, 824, 1330, 637, 831, 1005, 388, 908, 1171, 592, 440, 1158, 586, 830, 566, 941, 648, 1307, 1156, 626, 972, 1094, 604, 1095, 478, 1228, 655, 1170, 615, 618, 940, 1054, 1039, 484, 782, 818, 842, 1207, 610, 951, 963, 601, 679, 642, 631, 1176, 796, 644, 778, 1226, 719, 896, 1093, 660, 599, 623, 648, 804, 611, 880, 620, 643, 637, 1085, 608, 1121, 619, 514, 648, 576, 624, 1001, 858, 1092, 1183, 518, 622, 13, 470, 916, 1084, 1015, 752, 589, 846, 564, 450, 563, 611, 639, 562, 880, 1103, 1124, 1191, 568, 734, 612, 582, 532, 586, 652, 684, 561, 1099, 1196, 820, 727, 555, 482, 578, 603, 524, 729, 895, 601, 472]\n",
      "[6, 3, 2, 4, 9, 7, 14, 6, 8, 4, 49, 6, 6, 11, 6, 8, 14, 5, 12, 9, 8, 31, 8, 11, 2, 17, 8, 46, 4, 26, 23, 6, 8, 5, 12, 10, 8, 6, 5, 18, 6, 13, 5, 6, 13, 10, 10, 4, 29, 7, 20, 20, 5, 6, 5, 8, 5, 4, 7, 8, 5, 3, 13, 38, 6, 18, 7, 6, 7, 4, 5, 14, 11, 4, 5, 23, 5, 17, 7, 6, 8, 2, 6, 4, 4, 7, 3, 27, 2, 5, 6, 19, 4, 42, 6, 6, 8, 10, 5, 5, 11, 37, 4, 3, 9, 11, 6, 45, 57, 6, 13, 10, 3, 66, 5, 4, 10, 5, 11, 25, 7, 43, 9, 6, 7, 4, 10, 38, 11, 6, 5]\n"
     ]
    }
   ],
   "source": [
    "def data_processing(dataframe, activity):\n",
    "    starts = []\n",
    "    durations = []\n",
    "    activity_dataframe = dataframe[dataframe['Activity'] == activity].copy()\n",
    "    activity_dataframe.index = np.arange(len(activity_dataframe))\n",
    "    for i in range(len(activity_dataframe)):\n",
    "        start = activity_dataframe['start hour'][i]*60 + activity_dataframe['start min'][i]\n",
    "        end = activity_dataframe['end hour'][i]*60 + activity_dataframe['end min'][i]\n",
    "  \n",
    "        duration = end - start\n",
    "        if duration < 0:\n",
    "            duration += 1440\n",
    "        starts.append(start)\n",
    "        durations.append(duration)\n",
    "    \n",
    "    return starts, durations\n",
    "\n",
    "starts, durations = data_processing(data,act_to_ix['Eating'])\n",
    "\n",
    "print(len(starts))\n",
    "print(len(durations))\n",
    "\n",
    "print(starts)\n",
    "print(durations)"
   ]
  },
  {
   "cell_type": "code",
   "execution_count": 133,
   "metadata": {},
   "outputs": [
    {
     "name": "stdout",
     "output_type": "stream",
     "text": [
      "131\n"
     ]
    },
    {
     "data": {
      "image/png": "[encoded data removed]",
      "text/plain": [
       "<Figure size 432x288 with 1 Axes>"
      ]
     },
     "metadata": {
      "needs_background": "light"
     },
     "output_type": "display_data"
    }
   ],
   "source": [
    "import matplotlib.pyplot as plt\n",
    "%matplotlib inline\n",
    "plt.scatter(starts,durations)\n",
    "plt.xlabel('Start time')\n",
    "plt.ylabel('Duration')\n",
    "print(len(starts))"
   ]
  },
  {
   "cell_type": "code",
   "execution_count": 134,
   "metadata": {},
   "outputs": [],
   "source": [
    "from sklearn.cluster import KMeans\n",
    "\n",
    "X = np.array([starts, durations]).T\n",
    "\n",
    "kmeans = KMeans(n_clusters=2, random_state=0).fit(X)\n",
    "center = kmeans.cluster_centers_\n",
    "\n",
    "labels = kmeans.labels_\n",
    "\n",
    "cluster1_indices = np.where(labels == 0)[0]\n",
    "cluster2_indices = np.where(labels == 1)[0]\n",
    "\n",
    "cluster1_data = []\n",
    "for index in cluster1_indices:\n",
    "    cluster1_data.append(X[index,:])\n",
    "    \n",
    "cluster2_data = []\n",
    "for index in cluster2_indices:\n",
    "    cluster2_data.append(list(X[index,:]))\n",
    "\n",
    "cluster1_data = np.array(cluster1_data)\n",
    "cluster2_data = np.array(cluster2_data)"
   ]
  },
  {
   "cell_type": "code",
   "execution_count": 135,
   "metadata": {
    "scrolled": true
   },
   "outputs": [
    {
     "data": {
      "image/png": "[encoded data removed]",
      "text/plain": [
       "<Figure size 432x288 with 1 Axes>"
      ]
     },
     "metadata": {
      "needs_background": "light"
     },
     "output_type": "display_data"
    }
   ],
   "source": [
    "import matplotlib.pyplot as plt\n",
    "%matplotlib inline\n",
    "plt.scatter(cluster1_data[:,0],cluster1_data[:,1],color ='blue',label='cluster 1')\n",
    "plt.scatter(cluster2_data[:,0],cluster2_data[:,1],color = 'red',label='cluster 2')\n",
    "plt.xlabel('Start time')\n",
    "plt.ylabel('Duration')\n",
    "plt.scatter(center[0,0],center[0,1],color='black',marker='x',s=100)\n",
    "plt.scatter(center[1,0],center[1,1],color='black',marker='x',s=100)\n",
    "plt.legend(title='Cluster')\n",
    "plt.show()"
   ]
  },
  {
   "cell_type": "code",
   "execution_count": 136,
   "metadata": {},
   "outputs": [
    {
     "name": "stdout",
     "output_type": "stream",
     "text": [
      "[619.12345679   9.88888889]\n",
      "[118.75915899  10.64697256]\n"
     ]
    }
   ],
   "source": [
    "mean_cluster1 = np.mean(cluster1_data,axis=0)\n",
    "std_cluster1 = np.std(cluster1_data,axis=0)\n",
    "print(mean_cluster1)\n",
    "print(std_cluster1)"
   ]
  },
  {
   "cell_type": "code",
   "execution_count": 137,
   "metadata": {},
   "outputs": [
    {
     "name": "stdout",
     "output_type": "stream",
     "text": [
      "[1054.08   14.22]\n",
      "[124.7013777   12.72680636]\n"
     ]
    }
   ],
   "source": [
    "mean_cluster2 = np.mean(cluster2_data,axis=0)\n",
    "std_cluster2 = np.std(cluster2_data,axis=0)\n",
    "print(mean_cluster2)\n",
    "print(std_cluster2)"
   ]
  },
  {
   "cell_type": "code",
   "execution_count": 138,
   "metadata": {},
   "outputs": [],
   "source": [
    "def classifier(data_point):\n",
    "    start, duration = data_point\n",
    "    # Cluster 1 mean and std for start time and duration\n",
    "    mean_start1 = mean_cluster1[0]\n",
    "    mean_duration1 = mean_cluster1[1]\n",
    "    \n",
    "    std_start1 = std_cluster1[0]\n",
    "    std_duration1 = std_cluster1[1]\n",
    "    \n",
    "    # Cluster 2 mean and std for start time and duration\n",
    "    mean_start2 = mean_cluster2[0]\n",
    "    mean_duration2 = mean_cluster2[1]\n",
    "    \n",
    "    std_start2 = std_cluster2[0]\n",
    "    std_duration2 = std_cluster2[1]\n",
    "    \n",
    "    if ((mean_start1 - 2*std_start1) <= start <= (mean_start1 + 2*std_start1)) and ((mean_duration1 - 2*std_duration1) <= duration <= (mean_duration1 + 2*std_duration1)):\n",
    "        classlabel = 1\n",
    "    elif ((mean_start2 - 2*std_start2) <= start <= (mean_start2 + 2*std_start2)) and ((mean_duration2 - 2*std_duration2) <= duration <= (mean_duration2 + 2*std_duration2)):  \n",
    "        classlabel = 2\n",
    "        \n",
    "    else:\n",
    "        classlabel = 0\n",
    "    \n",
    "    return classlabel\n"
   ]
  },
  {
   "cell_type": "code",
   "execution_count": 139,
   "metadata": {},
   "outputs": [],
   "source": [
    "normal_starts = np.load('normal_starts.npy')\n",
    "abnormal_starts = np.load('abnormal_starts.npy')\n",
    "durations = np.load('durations.npy')"
   ]
  },
  {
   "cell_type": "code",
   "execution_count": 140,
   "metadata": {},
   "outputs": [],
   "source": [
    "results_abnormal = []\n",
    "for i in range(len(normal_starts)):\n",
    "    results_abnormal.append(classifier((abnormal_starts[i],durations[i])))"
   ]
  },
  {
   "cell_type": "code",
   "execution_count": 141,
   "metadata": {},
   "outputs": [],
   "source": [
    "results_normal = []\n",
    "for i in range(len(normal_starts)):\n",
    "    results_normal.append(classifier((normal_starts[i],durations[i])))"
   ]
  },
  {
   "cell_type": "code",
   "execution_count": 142,
   "metadata": {},
   "outputs": [
    {
     "name": "stdout",
     "output_type": "stream",
     "text": [
      "61.111111111111114\n"
     ]
    }
   ],
   "source": [
    "mis_counter = 0\n",
    "results_abnormal = np.array(results_abnormal)\n",
    "mis_counter += len(results_abnormal[results_abnormal != 0])\n",
    "results_normal = np.array(results_normal)\n",
    "mis_counter += len(results_normal[results_normal == 0])\n",
    "accuracy = (len(abnormal_starts)*2 - mis_counter)/(len(abnormal_starts)*2)*100\n",
    "#accuracy = (len(starts) - mis_counter)/len(starts)*100\n",
    "print(accuracy)"
   ]
  },
  {
   "cell_type": "code",
   "execution_count": 143,
   "metadata": {},
   "outputs": [
    {
     "data": {
      "text/plain": [
       "45"
      ]
     },
     "execution_count": 143,
     "metadata": {},
     "output_type": "execute_result"
    }
   ],
   "source": [
    "len(abnormal_starts)"
   ]
  },
  {
   "cell_type": "code",
   "execution_count": 144,
   "metadata": {},
   "outputs": [
    {
     "data": {
      "image/png": "[encoded data removed]",
      "text/plain": [
       "<Figure size 432x288 with 1 Axes>"
      ]
     },
     "metadata": {
      "needs_background": "light"
     },
     "output_type": "display_data"
    }
   ],
   "source": [
    "import matplotlib.pyplot as plt\n",
    "%matplotlib inline\n",
    "plt.scatter(cluster1_data[:,0],cluster1_data[:,1],color ='blue',label='cluster 1')\n",
    "plt.scatter(cluster2_data[:,0],cluster2_data[:,1],color = 'red',label='cluster 2')\n",
    "plt.xlabel('Start time')\n",
    "plt.ylabel('Duration')\n",
    "plt.scatter(center[0,0],center[0,1],color='black',marker='x',s=100)\n",
    "plt.scatter(center[1,0],center[1,1],color='black',marker='x',s=100)\n",
    "plt.scatter(abnormal_starts,durations,color= 'green')\n",
    "plt.scatter(normal_starts,durations,color='purple')\n",
    "plt.legend(title='Cluster')\n",
    "plt.show()"
   ]
  },
  {
   "cell_type": "code",
   "execution_count": 145,
   "metadata": {},
   "outputs": [
    {
     "name": "stdout",
     "output_type": "stream",
     "text": [
      "131\n",
      "45\n",
      "45\n"
     ]
    }
   ],
   "source": [
    "print(len(starts))\n",
    "print(len(abnormal_starts))\n",
    "print(len(durations))"
   ]
  },
  {
   "cell_type": "code",
   "execution_count": null,
   "metadata": {},
   "outputs": [],
   "source": []
  }
 ],
 "metadata": {
  "kernelspec": {
   "display_name": "Python 3",
   "language": "python",
   "name": "python3"
  },
  "language_info": {
   "codemirror_mode": {
    "name": "ipython",
    "version": 3
   },
   "file_extension": ".py",
   "mimetype": "text/x-python",
   "name": "python",
   "nbconvert_exporter": "python",
   "pygments_lexer": "ipython3",
   "version": "3.6.2"
  }
 },
 "nbformat": 4,
 "nbformat_minor": 2
}
